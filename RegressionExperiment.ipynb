{
 "cells": [
  {
   "cell_type": "code",
   "execution_count": 2,
   "metadata": {},
   "outputs": [
    {
     "data": {
      "image/png": "[encoded data removed]",
      "text/plain": [
       "<matplotlib.figure.Figure at 0x7f96e5a5e780>"
      ]
     },
     "metadata": {},
     "output_type": "display_data"
    }
   ],
   "source": [
    "import numpy as np\n",
    "from sklearn.datasets import load_svmlight_file\n",
    "from sklearn.model_selection import train_test_split\n",
    "import matplotlib.pyplot as plt\n",
    "\n",
    "\n",
    "# define objective function\n",
    "def objective_fun(x):\n",
    "    return np.dot(x, theta[:13].reshape(13, 1))[0][0]+b\n",
    "\n",
    "\n",
    "\n",
    "# define loss function\n",
    "def loss_fun(given_x, given_y):\n",
    "    loss = 0\n",
    "    for curr_x, curr_y in zip(given_x, given_y):\n",
    "        curr_x = curr_x.toarray()\n",
    "        loss = loss + (objective_fun(curr_x) - curr_y) ** 2\n",
    "\n",
    "    return loss / 2\n",
    "\n",
    "\n",
    "# load data set\n",
    "X, y = load_svmlight_file(\"housing_scale\")\n",
    "\n",
    "# split data set\n",
    "X_train, X_test, y_train, y_test = train_test_split(X, y, test_size=0.33, random_state=42)\n",
    "\n",
    "theta = np.zeros(13)\n",
    "b=0\n",
    "\n",
    "learning_rate = 0.2\n",
    "\n",
    "iteration_num = 200\n",
    "train_losses = []\n",
    "test_losses = []\n",
    "for i in range(iteration_num):\n",
    "\n",
    "    Gradient_theta = np.zeros(13)\n",
    "    Gradient_b = 0\n",
    "    for curr_x, curr_y in zip(X_train, y_train):\n",
    "         curr_x = curr_x.toarray()\n",
    "         # calculate gradient\n",
    "\n",
    "         for j in range(13):\n",
    "             Gradient_theta[j] = Gradient_theta[j] + (objective_fun(curr_x) - curr_y) * curr_x[0][j]\n",
    "\n",
    "         Gradient_b = Gradient_b + (objective_fun(curr_x) - curr_y)\n",
    "\n",
    "    for i in range(len(Gradient_theta)):\n",
    "        Gradient_theta[i] = Gradient_theta[i] / y_train.size\n",
    "    Gradient_b=Gradient_b/ y_train.size\n",
    "    #update gradient\n",
    "    theta = theta - learning_rate * Gradient_theta\n",
    "    b= b - learning_rate * Gradient_b\n",
    "\n",
    "    train_losses.append((loss_fun(X_train, y_train)/ y_train.size))\n",
    "    test_losses.append(loss_fun(X_test, y_test)/ y_test.size)\n",
    "\n",
    "\n",
    "plt.plot(train_losses,'b',test_losses,'r')\n",
    "#蓝色为train_loss，红色为test_loss\n",
    "plt.xlabel('iterations')\n",
    "plt.ylabel('loss')\n",
    "plt.show()"
   ]
  },
  {
   "cell_type": "code",
   "execution_count": null,
   "metadata": {},
   "outputs": [],
   "source": []
  },
  {
   "cell_type": "code",
   "execution_count": null,
   "metadata": {},
   "outputs": [],
   "source": []
  }
 ],
 "metadata": {
  "kernelspec": {
   "display_name": "Python 3",
   "language": "python",
   "name": "python3"
  },
  "language_info": {
   "codemirror_mode": {
    "name": "ipython",
    "version": 3
   },
   "file_extension": ".py",
   "mimetype": "text/x-python",
   "name": "python",
   "nbconvert_exporter": "python",
   "pygments_lexer": "ipython3",
   "version": "3.6.2"
  }
 },
 "nbformat": 4,
 "nbformat_minor": 2
}
